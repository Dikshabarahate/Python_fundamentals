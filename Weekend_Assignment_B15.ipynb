{
 "cells": [
  {
   "cell_type": "code",
   "execution_count": null,
   "metadata": {},
   "outputs": [],
   "source": [
    "#RESTAURANTS :"
   ]
  },
  {
   "cell_type": "code",
   "execution_count": 1,
   "metadata": {},
   "outputs": [
    {
     "name": "stdout",
     "output_type": "stream",
     "text": [
      "Restaurant is opening soon\n"
     ]
    }
   ],
   "source": [
    "class Restaurant:\n",
    "    \"\"\"Opening of a Restaurant\"\"\"\n",
    "    \n",
    "    def __init__(self,name,type):\n",
    "        \n",
    "        \"\"\"Initializing the attributes\"\"\"\n",
    "        \n",
    "        self.name = name\n",
    "        self.type = type\n",
    "        \n",
    "    print(f\"Restaurant is opening soon\")\n",
    "    "
   ]
  },
  {
   "cell_type": "code",
   "execution_count": 4,
   "metadata": {},
   "outputs": [],
   "source": [
    "describe_restaurant(restaurant_name = 'Fresh Press Cafe', cuisine_type = 'Fast Food')\n",
    "\n",
    "restaurant_name = 'Fresh Press Cafe'\n",
    "cuisine_type = 'Fast Food'"
   ]
  },
  {
   "cell_type": "code",
   "execution_count": 5,
   "metadata": {},
   "outputs": [
    {
     "name": "stdout",
     "output_type": "stream",
     "text": [
      "We are opening the Fresh Press Cafe's \n",
      "\n",
      "Cuisine name is Fast Food\n"
     ]
    }
   ],
   "source": [
    "def describe_restaurant(restaurant_name, cuisine_type):\n",
    "    \n",
    "    \"\"\"Restaurant is open\"\"\"\n",
    "    \n",
    "print(f\"We are opening the {restaurant_name}'s \")\n",
    "print(f\"\\nCuisine name is {cuisine_type}\")"
   ]
  },
  {
   "cell_type": "code",
   "execution_count": 6,
   "metadata": {},
   "outputs": [],
   "source": [
    "def open_restaurant():\n",
    "    \n",
    "    \"\"\"Restaurant is open\"\"\"\n",
    "    \n",
    "    print(f\"{restaurant_name} is now open\")\n"
   ]
  },
  {
   "cell_type": "code",
   "execution_count": 7,
   "metadata": {},
   "outputs": [],
   "source": [
    "xyz = Restaurant('Fresh Press Cafe','Fast Food')"
   ]
  },
  {
   "cell_type": "code",
   "execution_count": 8,
   "metadata": {},
   "outputs": [
    {
     "name": "stdout",
     "output_type": "stream",
     "text": [
      "Fresh Press Cafe is now open\n"
     ]
    }
   ],
   "source": [
    "open_restaurant()"
   ]
  },
  {
   "cell_type": "code",
   "execution_count": null,
   "metadata": {},
   "outputs": [],
   "source": [
    "#ICE CREAM STAND :"
   ]
  },
  {
   "cell_type": "code",
   "execution_count": 9,
   "metadata": {},
   "outputs": [],
   "source": [
    "class IceCreamStand:\n",
    "    \n",
    "    flavor1 = 'Vanilla'\n",
    "    flavor2 = 'Butterscotch'\n",
    "    flavor3 = 'Strawberry'\n",
    "    flavor4 = 'Mango'"
   ]
  },
  {
   "cell_type": "code",
   "execution_count": 10,
   "metadata": {},
   "outputs": [],
   "source": [
    "class Restaurant(IceCreamStand):\n",
    "    flavor2 = 'Butterscotch'"
   ]
  },
  {
   "cell_type": "code",
   "execution_count": 11,
   "metadata": {},
   "outputs": [],
   "source": [
    "xobj= Restaurant()"
   ]
  },
  {
   "cell_type": "code",
   "execution_count": 12,
   "metadata": {},
   "outputs": [
    {
     "data": {
      "text/plain": [
       "'Vanilla'"
      ]
     },
     "execution_count": 12,
     "metadata": {},
     "output_type": "execute_result"
    }
   ],
   "source": [
    "xobj.flavor1"
   ]
  },
  {
   "cell_type": "code",
   "execution_count": 13,
   "metadata": {},
   "outputs": [
    {
     "data": {
      "text/plain": [
       "'Mango'"
      ]
     },
     "execution_count": 13,
     "metadata": {},
     "output_type": "execute_result"
    }
   ],
   "source": [
    "xobj.flavor4"
   ]
  },
  {
   "cell_type": "code",
   "execution_count": 14,
   "metadata": {},
   "outputs": [
    {
     "data": {
      "text/plain": [
       "'Strawberry'"
      ]
     },
     "execution_count": 14,
     "metadata": {},
     "output_type": "execute_result"
    }
   ],
   "source": [
    "xobj.flavor3"
   ]
  },
  {
   "cell_type": "code",
   "execution_count": 15,
   "metadata": {},
   "outputs": [
    {
     "data": {
      "text/plain": [
       "'Butterscotch'"
      ]
     },
     "execution_count": 15,
     "metadata": {},
     "output_type": "execute_result"
    }
   ],
   "source": [
    "xobj.flavor2"
   ]
  },
  {
   "cell_type": "code",
   "execution_count": null,
   "metadata": {},
   "outputs": [],
   "source": []
  }
 ],
 "metadata": {
  "kernelspec": {
   "display_name": "Python 3",
   "language": "python",
   "name": "python3"
  },
  "language_info": {
   "codemirror_mode": {
    "name": "ipython",
    "version": 3
   },
   "file_extension": ".py",
   "mimetype": "text/x-python",
   "name": "python",
   "nbconvert_exporter": "python",
   "pygments_lexer": "ipython3",
   "version": "3.7.6"
  }
 },
 "nbformat": 4,
 "nbformat_minor": 4
}
