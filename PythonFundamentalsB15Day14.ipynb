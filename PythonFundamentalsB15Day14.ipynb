{
 "cells": [
  {
   "cell_type": "code",
   "execution_count": null,
   "metadata": {},
   "outputs": [],
   "source": [
    "Initializing the classes by using a special method as constructor."
   ]
  },
  {
   "cell_type": "code",
   "execution_count": null,
   "metadata": {},
   "outputs": [],
   "source": [
    "req: To create a TVs class:"
   ]
  },
  {
   "cell_type": "code",
   "execution_count": 1,
   "metadata": {},
   "outputs": [],
   "source": [
    "class Tv:\n",
    "    \"\"\"A simple idea to design a tv\"\"\"\n",
    "    def __init__(self,age,model):\n",
    "        \n",
    "        \n",
    "        \"\"\"Initializing the attribute\"\"\"\n",
    "        \n",
    "        self.age = age\n",
    "        \n",
    "        self.model = model\n",
    "        \n",
    "        print('It is ready to design it')\n",
    "    \n",
    "    def test(self):\n",
    "        \"\"\"Testing the model of tv\"\"\"\n",
    "        print(f\"{self.model} is now testing\")\n",
    "\n",
    "    def run_over(self):\n",
    "        \n",
    "        \"\"\"Execute the tv and running over\"\"\"\n",
    "        \n",
    "        print(f\"{self.model} is now rolling\")\n",
    "        \n",
    "    "
   ]
  },
  {
   "cell_type": "code",
   "execution_count": 2,
   "metadata": {},
   "outputs": [
    {
     "name": "stdout",
     "output_type": "stream",
     "text": [
      "It is ready to design it\n"
     ]
    }
   ],
   "source": [
    "xobj = Tv('redmi',6)"
   ]
  },
  {
   "cell_type": "code",
   "execution_count": 3,
   "metadata": {},
   "outputs": [
    {
     "name": "stdout",
     "output_type": "stream",
     "text": [
      "6 is now testing\n"
     ]
    }
   ],
   "source": [
    "xobj.test()"
   ]
  },
  {
   "cell_type": "code",
   "execution_count": 4,
   "metadata": {},
   "outputs": [
    {
     "name": "stdout",
     "output_type": "stream",
     "text": [
      "6 is now rolling\n"
     ]
    }
   ],
   "source": [
    "xobj.run_over()"
   ]
  },
  {
   "cell_type": "code",
   "execution_count": null,
   "metadata": {},
   "outputs": [],
   "source": [
    "Amazon.in"
   ]
  },
  {
   "cell_type": "code",
   "execution_count": null,
   "metadata": {},
   "outputs": [],
   "source": [
    "req: create a class"
   ]
  },
  {
   "cell_type": "code",
   "execution_count": null,
   "metadata": {},
   "outputs": [],
   "source": []
  },
  {
   "cell_type": "code",
   "execution_count": 5,
   "metadata": {},
   "outputs": [],
   "source": [
    "class Test2:\n",
    "    \"\"\"An attempt to design the page \"\"\"\n",
    "    \n",
    "    def createname(self,name):\n",
    "        \"\"\"Taking the name input from user\"\"\"\n",
    "        self.name = name\n",
    "        \n",
    "    def displayname(self):\n",
    "        \n",
    "        print(self.name)\n",
    "            \n",
    "    def greetuser(self):\n",
    "        \n",
    "        print(f\"Good to have you in Amazon again, {self.name}\")\n",
    "        "
   ]
  },
  {
   "cell_type": "code",
   "execution_count": 6,
   "metadata": {},
   "outputs": [],
   "source": [
    "yobj = Test2()"
   ]
  },
  {
   "cell_type": "code",
   "execution_count": 10,
   "metadata": {},
   "outputs": [],
   "source": [
    "yobj.createname('Diksha')"
   ]
  },
  {
   "cell_type": "code",
   "execution_count": 11,
   "metadata": {},
   "outputs": [
    {
     "name": "stdout",
     "output_type": "stream",
     "text": [
      "Good to have you in Amazon again, Diksha\n"
     ]
    }
   ],
   "source": [
    "yobj.greetuser()"
   ]
  },
  {
   "cell_type": "code",
   "execution_count": null,
   "metadata": {},
   "outputs": [],
   "source": []
  }
 ],
 "metadata": {
  "kernelspec": {
   "display_name": "Python 3",
   "language": "python",
   "name": "python3"
  },
  "language_info": {
   "codemirror_mode": {
    "name": "ipython",
    "version": 3
   },
   "file_extension": ".py",
   "mimetype": "text/x-python",
   "name": "python",
   "nbconvert_exporter": "python",
   "pygments_lexer": "ipython3",
   "version": "3.7.6"
  }
 },
 "nbformat": 4,
 "nbformat_minor": 4
}
