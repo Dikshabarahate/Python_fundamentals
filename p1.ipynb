{
  "nbformat": 4,
  "nbformat_minor": 0,
  "metadata": {
    "colab": {
      "name": "Untitled0.ipynb",
      "provenance": [],
      "collapsed_sections": [],
      "authorship_tag": "ABX9TyMqZJSCke38dQaF6o3dQSlP",
      "include_colab_link": true
    },
    "kernelspec": {
      "name": "python3",
      "display_name": "Python 3"
    }
  },
  "cells": [
    {
      "cell_type": "markdown",
      "metadata": {
        "id": "view-in-github",
        "colab_type": "text"
      },
      "source": [
        "<a href=\"https://colab.research.google.com/github/Dikshabarahate/Python_fundamentals/blob/master/p1.ipynb\" target=\"_parent\"><img src=\"https://colab.research.google.com/assets/colab-badge.svg\" alt=\"Open In Colab\"/></a>"
      ]
    },
    {
      "cell_type": "code",
      "metadata": {
        "id": "AsiJ91oCimdo",
        "colab": {
          "base_uri": "https://localhost:8080/"
        },
        "outputId": "a71a6640-3aa4-468e-926c-ef06e4ab54b3"
      },
      "source": [
        "5+7"
      ],
      "execution_count": null,
      "outputs": [
        {
          "output_type": "execute_result",
          "data": {
            "text/plain": [
              "12"
            ]
          },
          "metadata": {
            "tags": []
          },
          "execution_count": 1
        }
      ]
    },
    {
      "cell_type": "code",
      "metadata": {
        "id": "z1mrtmNKioq-",
        "colab": {
          "base_uri": "https://localhost:8080/"
        },
        "outputId": "3774f2b5-c873-40fc-b674-c8a27ec06544"
      },
      "source": [
        "if 6%2 == 0:\r\n",
        "  print(\"Even Number\")"
      ],
      "execution_count": null,
      "outputs": [
        {
          "output_type": "stream",
          "text": [
            "Even Number\n"
          ],
          "name": "stdout"
        }
      ]
    },
    {
      "cell_type": "code",
      "metadata": {
        "id": "YciKgCQdlCs_",
        "colab": {
          "base_uri": "https://localhost:8080/"
        },
        "outputId": "13f7a1e1-846d-4066-eaf1-6d019125a760"
      },
      "source": [
        "6%2"
      ],
      "execution_count": null,
      "outputs": [
        {
          "output_type": "execute_result",
          "data": {
            "text/plain": [
              "0"
            ]
          },
          "metadata": {
            "tags": []
          },
          "execution_count": 3
        }
      ]
    },
    {
      "cell_type": "code",
      "metadata": {
        "id": "V7Q1CfUQlETu"
      },
      "source": [
        "7"
      ],
      "execution_count": null,
      "outputs": []
    },
    {
      "cell_type": "code",
      "metadata": {
        "id": "VGrxCbxGmudy"
      },
      "source": [
        "num = 7"
      ],
      "execution_count": 17,
      "outputs": []
    },
    {
      "cell_type": "code",
      "metadata": {
        "colab": {
          "base_uri": "https://localhost:8080/"
        },
        "id": "CUPTQpeymsvC",
        "outputId": "9761a44b-a3c6-4130-be22-1c9dd865129c"
      },
      "source": [
        "if num%2 == 0:\r\n",
        "  print(\"even no\",num)\r\n",
        "else:\r\n",
        "  print(\"Odd no\",num)"
      ],
      "execution_count": 18,
      "outputs": [
        {
          "output_type": "stream",
          "text": [
            "Odd no 7\n"
          ],
          "name": "stdout"
        }
      ]
    },
    {
      "cell_type": "code",
      "metadata": {
        "colab": {
          "base_uri": "https://localhost:8080/"
        },
        "id": "62KoNHmCmzEX",
        "outputId": "7e2a091f-349f-409a-9390-475c0fb278d2"
      },
      "source": [
        "password = input()"
      ],
      "execution_count": 19,
      "outputs": [
        {
          "output_type": "stream",
          "text": [
            "India\n"
          ],
          "name": "stdout"
        }
      ]
    },
    {
      "cell_type": "code",
      "metadata": {
        "colab": {
          "base_uri": "https://localhost:8080/"
        },
        "id": "JRmGaGFmnuRj",
        "outputId": "83434012-369c-4cda-e3c0-5a1e8fd56157"
      },
      "source": [
        "print(password)"
      ],
      "execution_count": 20,
      "outputs": [
        {
          "output_type": "stream",
          "text": [
            "India\n"
          ],
          "name": "stdout"
        }
      ]
    },
    {
      "cell_type": "code",
      "metadata": {
        "colab": {
          "base_uri": "https://localhost:8080/"
        },
        "id": "DsrPXWi5n08u",
        "outputId": "26046e29-092e-482e-cbc7-edb61b5078c0"
      },
      "source": [
        "len(password)"
      ],
      "execution_count": 22,
      "outputs": [
        {
          "output_type": "execute_result",
          "data": {
            "text/plain": [
              "5"
            ]
          },
          "metadata": {
            "tags": []
          },
          "execution_count": 22
        }
      ]
    },
    {
      "cell_type": "code",
      "metadata": {
        "colab": {
          "base_uri": "https://localhost:8080/"
        },
        "id": "NZq_wgwIoDIS",
        "outputId": "54d16151-b6a1-4351-919f-4956b6b299e5"
      },
      "source": [
        "if len(password) >= 8:\r\n",
        "  print(\"Valid Passsword\")\r\n",
        "else:\r\n",
        "    print(\"Invalid password\")"
      ],
      "execution_count": 27,
      "outputs": [
        {
          "output_type": "stream",
          "text": [
            "Invalid password\n"
          ],
          "name": "stdout"
        }
      ]
    },
    {
      "cell_type": "code",
      "metadata": {
        "colab": {
          "base_uri": "https://localhost:8080/"
        },
        "id": "MlcB1T3EoZ5w",
        "outputId": "fd492d6e-4568-496b-852b-a6b4ff7066dc"
      },
      "source": [
        "password = input()"
      ],
      "execution_count": 28,
      "outputs": [
        {
          "output_type": "stream",
          "text": [
            "abcdgdfh\n"
          ],
          "name": "stdout"
        }
      ]
    },
    {
      "cell_type": "code",
      "metadata": {
        "colab": {
          "base_uri": "https://localhost:8080/"
        },
        "id": "wnPseeKKpYdH",
        "outputId": "cc1af92c-352d-4592-dc2c-878f173c7b5f"
      },
      "source": [
        "if len(password) >= 8:\r\n",
        "  print(\"Valid Password\")\r\n",
        "else:\r\n",
        "  print(\"Invalid Paassword\")"
      ],
      "execution_count": 32,
      "outputs": [
        {
          "output_type": "stream",
          "text": [
            "Valid Password\n"
          ],
          "name": "stdout"
        }
      ]
    },
    {
      "cell_type": "code",
      "metadata": {
        "id": "OO_lgCftpuvh"
      },
      "source": [
        "a = 10\r\n",
        "b = 25.5\r\n",
        "c = 'India'"
      ],
      "execution_count": 33,
      "outputs": []
    },
    {
      "cell_type": "code",
      "metadata": {
        "colab": {
          "base_uri": "https://localhost:8080/"
        },
        "id": "r3RTpl4frZYD",
        "outputId": "8e50d7f6-7a90-4ae4-e79e-500163ad5074"
      },
      "source": [
        "type(a)"
      ],
      "execution_count": 35,
      "outputs": [
        {
          "output_type": "execute_result",
          "data": {
            "text/plain": [
              "int"
            ]
          },
          "metadata": {
            "tags": []
          },
          "execution_count": 35
        }
      ]
    },
    {
      "cell_type": "code",
      "metadata": {
        "colab": {
          "base_uri": "https://localhost:8080/"
        },
        "id": "i2bmh64IrdER",
        "outputId": "db878227-2c5f-4146-e5db-97dd2f634a80"
      },
      "source": [
        "type(b)"
      ],
      "execution_count": 36,
      "outputs": [
        {
          "output_type": "execute_result",
          "data": {
            "text/plain": [
              "float"
            ]
          },
          "metadata": {
            "tags": []
          },
          "execution_count": 36
        }
      ]
    },
    {
      "cell_type": "code",
      "metadata": {
        "colab": {
          "base_uri": "https://localhost:8080/"
        },
        "id": "sTGMa38orfWQ",
        "outputId": "c61e29e7-13f3-4433-8b2d-73f5fcf09bbe"
      },
      "source": [
        "type(c)"
      ],
      "execution_count": 37,
      "outputs": [
        {
          "output_type": "execute_result",
          "data": {
            "text/plain": [
              "str"
            ]
          },
          "metadata": {
            "tags": []
          },
          "execution_count": 37
        }
      ]
    },
    {
      "cell_type": "code",
      "metadata": {
        "colab": {
          "base_uri": "https://localhost:8080/"
        },
        "id": "bck-p9ABrL9Z",
        "outputId": "4511b45f-6f06-4009-e9be-4725355082cb"
      },
      "source": [
        "print(a)\r\n",
        "print(b)\r\n",
        "print(c)"
      ],
      "execution_count": 34,
      "outputs": [
        {
          "output_type": "stream",
          "text": [
            "10\n",
            "25.5\n",
            "India\n"
          ],
          "name": "stdout"
        }
      ]
    },
    {
      "cell_type": "code",
      "metadata": {
        "id": "7januLYyrRnJ"
      },
      "source": [
        "x = [10,20,30,40]"
      ],
      "execution_count": 38,
      "outputs": []
    },
    {
      "cell_type": "code",
      "metadata": {
        "colab": {
          "base_uri": "https://localhost:8080/"
        },
        "id": "zJIHE4u4rYFx",
        "outputId": "e28cd902-062e-414f-fc4f-6f876ba8181f"
      },
      "source": [
        "type(x)"
      ],
      "execution_count": 39,
      "outputs": [
        {
          "output_type": "execute_result",
          "data": {
            "text/plain": [
              "list"
            ]
          },
          "metadata": {
            "tags": []
          },
          "execution_count": 39
        }
      ]
    },
    {
      "cell_type": "code",
      "metadata": {
        "colab": {
          "base_uri": "https://localhost:8080/"
        },
        "id": "I-jAGgTKsC9o",
        "outputId": "daf551fe-0122-45cf-ca53-1131ce7ab623"
      },
      "source": [
        "x[0]"
      ],
      "execution_count": 40,
      "outputs": [
        {
          "output_type": "execute_result",
          "data": {
            "text/plain": [
              "10"
            ]
          },
          "metadata": {
            "tags": []
          },
          "execution_count": 40
        }
      ]
    },
    {
      "cell_type": "code",
      "metadata": {
        "colab": {
          "base_uri": "https://localhost:8080/"
        },
        "id": "iz6W0fj7sEg1",
        "outputId": "3bba051a-c9ae-4bcd-f82f-eeaace222a0c"
      },
      "source": [
        "x[2]"
      ],
      "execution_count": 41,
      "outputs": [
        {
          "output_type": "execute_result",
          "data": {
            "text/plain": [
              "30"
            ]
          },
          "metadata": {
            "tags": []
          },
          "execution_count": 41
        }
      ]
    },
    {
      "cell_type": "code",
      "metadata": {
        "id": "z2bNemJSsGPH"
      },
      "source": [
        ""
      ],
      "execution_count": null,
      "outputs": []
    }
  ]
}